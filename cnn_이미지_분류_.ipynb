{
  "cells": [
    {
      "cell_type": "markdown",
      "metadata": {
        "id": "view-in-github",
        "colab_type": "text"
      },
      "source": [
        "<a href=\"https://colab.research.google.com/github/seosumin/start-github/blob/master/cnn_%EC%9D%B4%EB%AF%B8%EC%A7%80_%EB%B6%84%EB%A5%98_.ipynb\" target=\"_parent\"><img src=\"https://colab.research.google.com/assets/colab-badge.svg\" alt=\"Open In Colab\"/></a>"
      ]
    },
    {
      "cell_type": "markdown",
      "metadata": {
        "id": "m7KBpffWzlxH"
      },
      "source": [
        "### Import TensorFlow"
      ]
    },
    {
      "cell_type": "code",
      "execution_count": 1,
      "metadata": {
        "id": "iAve6DCL4JH4"
      },
      "outputs": [],
      "source": [
        "import tensorflow as tf\n",
        "\n",
        "from tensorflow.keras import datasets, layers, models\n",
        "import matplotlib.pyplot as plt"
      ]
    },
    {
      "cell_type": "code",
      "source": [
        ""
      ],
      "metadata": {
        "id": "2KPkZaJClxA_"
      },
      "execution_count": null,
      "outputs": []
    },
    {
      "cell_type": "markdown",
      "source": [
        "# 이미지를 어떻게 입력받는지에 따른 코드 분할\n",
        "\n",
        "# 1) 바로 array 형태의 이미지 데이터를 받을 때\n",
        "# 2) 이미지 파일이 path에 담겨있고 이미지 형태일 때"
      ],
      "metadata": {
        "id": "0b92DA9Zlxc-"
      }
    },
    {
      "cell_type": "code",
      "execution_count": 15,
      "metadata": {
        "id": "JWoEqyMuXFF4"
      },
      "outputs": [],
      "source": [
        "# cifar10 데이터 다운로드 해당 데이터는 다운받는 순간부터 3차원 형태를 가지고 있다.\n",
        "(train_images, train_labels), (test_images, test_labels) = datasets.cifar10.load_data()\n",
        "# 255로 스케일링 하자 \n",
        "#train_images, test_images = train_images / 255.0, test_images / 255.0"
      ]
    },
    {
      "cell_type": "code",
      "source": [
        "# 만약 시험이 위의 데이터처럼 어레이 형식이 아니라 이미지 형태라면..?\n",
        "# 데이터 path가 있는 경우라면, imageGenerator를 써보자.\n",
        "# 그런데 이 코드가 먹힐라면, path에 클래스별로 따로 하위 폴더를 가지고 있어야 한다. \n",
        "# 참고 링크 https://tykimos.tistory.com/13\n",
        "\n",
        "\n",
        "from tensorflow.keras.preprocessing.image import ImageDataGenerator\n",
        "# imageDataGenerator 호출 \n",
        "train_datagen = ImageDataGenerator(rescale=1/255,\n",
        "                                  validation_split=0.2)\n",
        "\n",
        "#.flow_from_directory(만약 path를 안다면?), target 싸이즈를 지정해준다. \n",
        "train_generator = train_datagen.flow_from_directory(\n",
        "  os.path.join(os.getcwd(),photo_dir), # 경로 설정\n",
        "  target_size=(299, 299),\n",
        "  batch_size=32,\n",
        "  class_mode='binary', #다중문제는 categorical\n",
        "  subset='training' # 해당 파라미터를 통해 train/valid 분할 가능\n",
        ")\n",
        "\n",
        "#valid\n",
        "valid_generator = train_datagen.flow_from_directory(\n",
        "  os.path.join(os.getcwd(),photo_dir), #경로 설정\n",
        "  target_size=(299, 299),\n",
        "  batch_size=32,\n",
        "  class_mode='binary', #다중문제는 categorical\n",
        "  subset='validation'\n",
        ")"
      ],
      "metadata": {
        "colab": {
          "base_uri": "https://localhost:8080/",
          "height": 137
        },
        "id": "WmPHjtwfj7hW",
        "outputId": "25d4d60f-961a-44bc-b77f-a26ce7c43e9e"
      },
      "execution_count": 34,
      "outputs": [
        {
          "output_type": "error",
          "ename": "SyntaxError",
          "evalue": "ignored",
          "traceback": [
            "\u001b[0;36m  File \u001b[0;32m\"<ipython-input-34-c844774301e1>\"\u001b[0;36m, line \u001b[0;32m18\u001b[0m\n\u001b[0;31m    subset='training' # 해당 파라미터를 통해 train/valid 분할 가능\u001b[0m\n\u001b[0m         ^\u001b[0m\n\u001b[0;31mSyntaxError\u001b[0m\u001b[0;31m:\u001b[0m invalid syntax\n"
          ]
        }
      ]
    },
    {
      "cell_type": "code",
      "source": [
        "# 어레이로 받았을 경우에도 imageDataGenerater를 쓸수있다.\n",
        "# .flow를 활용할 수 있다. \n",
        "# 참고 링크 https://keras.io/ko/preprocessing/image/\n",
        "from tensorflow.keras.preprocessing.image import ImageDataGenerator\n",
        "train_datagen = ImageDataGenerator(rescale=1./255,\n",
        "                                  validation_split=0.2)\n",
        "\n",
        "train_generator = train_datagen.flow(\n",
        "    train_images, train_labels,\n",
        "    batch_size=32,\n",
        "    subset='training' # 해당 파라미터를 통해 train/valid 분할 가능\n",
        ")\n",
        "\n",
        "valid_generator = train_datagen.flow(\n",
        "   train_images, train_labels,\n",
        "  batch_size=32,\n",
        "  subset='validation'\n",
        ")\n",
        "\n",
        "print(train_generator.x.shape)\n",
        "print(valid_generator.x.shape)"
      ],
      "metadata": {
        "colab": {
          "base_uri": "https://localhost:8080/"
        },
        "id": "n32dVWyCkhXE",
        "outputId": "19ce249b-e664-4257-d646-7df3b5f359a6"
      },
      "execution_count": 35,
      "outputs": [
        {
          "output_type": "stream",
          "name": "stdout",
          "text": [
            "(40000, 32, 32, 3)\n",
            "(10000, 32, 32, 3)\n"
          ]
        }
      ]
    },
    {
      "cell_type": "code",
      "source": [
        "train_generator.y"
      ],
      "metadata": {
        "colab": {
          "base_uri": "https://localhost:8080/"
        },
        "id": "scoglVuDvCaA",
        "outputId": "9f1eb684-6ab9-41eb-8562-e41bb75b290a"
      },
      "execution_count": 39,
      "outputs": [
        {
          "output_type": "execute_result",
          "data": {
            "text/plain": [
              "array([[1],\n",
              "       [6],\n",
              "       [6],\n",
              "       ...,\n",
              "       [9],\n",
              "       [1],\n",
              "       [1]], dtype=uint8)"
            ]
          },
          "metadata": {},
          "execution_count": 39
        }
      ]
    },
    {
      "cell_type": "code",
      "source": [
        "#test\n",
        "test_datagen = ImageDataGenerator(rescale=1./255)\n",
        "\n",
        "test_generator = test_datagen.flow(\n",
        "    test_images, test_labels,\n",
        "    batch_size=32)"
      ],
      "metadata": {
        "id": "FLM_mNbkr7sN"
      },
      "execution_count": 32,
      "outputs": []
    },
    {
      "cell_type": "code",
      "source": [
        "clear_session()\n",
        "model = models.Sequential()\n",
        "model.add(layers.Conv2D(32, (3, 3), activation='relu', input_shape=(32, 32, 3)))\n",
        "model.add(layers.MaxPooling2D((2, 2)))\n",
        "model.add(layers.Conv2D(64, (3, 3), activation='relu'))\n",
        "model.add(layers.MaxPooling2D((2, 2)))\n",
        "model.add(layers.Conv2D(64, (3, 3), activation='relu'))\n",
        "model.add(layers.Flatten())\n",
        "model.add(layers.Dense(64, activation='relu'))\n",
        "model.add(layers.Dense(10))\n",
        "model.summary()"
      ],
      "metadata": {
        "colab": {
          "base_uri": "https://localhost:8080/"
        },
        "id": "BqND8JAuxFKv",
        "outputId": "30152433-7a35-484a-b82a-555420de0709"
      },
      "execution_count": 52,
      "outputs": [
        {
          "output_type": "stream",
          "name": "stdout",
          "text": [
            "Model: \"sequential\"\n",
            "_________________________________________________________________\n",
            " Layer (type)                Output Shape              Param #   \n",
            "=================================================================\n",
            " conv2d (Conv2D)             (None, 30, 30, 32)        896       \n",
            "                                                                 \n",
            " max_pooling2d (MaxPooling2D  (None, 15, 15, 32)       0         \n",
            " )                                                               \n",
            "                                                                 \n",
            " conv2d_1 (Conv2D)           (None, 13, 13, 64)        18496     \n",
            "                                                                 \n",
            " max_pooling2d_1 (MaxPooling  (None, 6, 6, 64)         0         \n",
            " 2D)                                                             \n",
            "                                                                 \n",
            " conv2d_2 (Conv2D)           (None, 4, 4, 64)          36928     \n",
            "                                                                 \n",
            " flatten (Flatten)           (None, 1024)              0         \n",
            "                                                                 \n",
            " dense (Dense)               (None, 64)                65600     \n",
            "                                                                 \n",
            " dense_1 (Dense)             (None, 10)                650       \n",
            "                                                                 \n",
            "=================================================================\n",
            "Total params: 122,570\n",
            "Trainable params: 122,570\n",
            "Non-trainable params: 0\n",
            "_________________________________________________________________\n"
          ]
        }
      ]
    },
    {
      "cell_type": "code",
      "source": [
        "model.compile(optimizer='adam',\n",
        "              loss=tf.keras.losses.SparseCategoricalCrossentropy(from_logits=True),\n",
        "              metrics=['accuracy'])\n",
        "\n",
        "history = model.fit(train_images, train_labels, epochs=10, \n",
        "                    validation_data=(test_images, test_labels), verbose=1)"
      ],
      "metadata": {
        "colab": {
          "base_uri": "https://localhost:8080/"
        },
        "id": "DHoMBrz_xFM3",
        "outputId": "63c372ae-d2be-4c7f-9436-a3cad99c29ae"
      },
      "execution_count": 53,
      "outputs": [
        {
          "output_type": "stream",
          "name": "stdout",
          "text": [
            "Epoch 1/10\n",
            "1563/1563 [==============================] - 10s 5ms/step - loss: 1.7118 - accuracy: 0.3917 - val_loss: 1.4115 - val_accuracy: 0.4895\n",
            "Epoch 2/10\n",
            "1563/1563 [==============================] - 8s 5ms/step - loss: 1.3110 - accuracy: 0.5336 - val_loss: 1.2477 - val_accuracy: 0.5556\n",
            "Epoch 3/10\n",
            "1563/1563 [==============================] - 8s 5ms/step - loss: 1.1645 - accuracy: 0.5920 - val_loss: 1.2680 - val_accuracy: 0.5687\n",
            "Epoch 4/10\n",
            "1563/1563 [==============================] - 8s 5ms/step - loss: 1.0604 - accuracy: 0.6302 - val_loss: 1.0964 - val_accuracy: 0.6216\n",
            "Epoch 5/10\n",
            "1563/1563 [==============================] - 8s 5ms/step - loss: 0.9834 - accuracy: 0.6579 - val_loss: 1.1016 - val_accuracy: 0.6164\n",
            "Epoch 6/10\n",
            "1563/1563 [==============================] - 8s 5ms/step - loss: 0.9190 - accuracy: 0.6778 - val_loss: 1.0683 - val_accuracy: 0.6476\n",
            "Epoch 7/10\n",
            "1563/1563 [==============================] - 8s 5ms/step - loss: 0.8533 - accuracy: 0.7044 - val_loss: 1.0867 - val_accuracy: 0.6366\n",
            "Epoch 8/10\n",
            "1563/1563 [==============================] - 8s 5ms/step - loss: 0.8070 - accuracy: 0.7195 - val_loss: 1.0855 - val_accuracy: 0.6447\n",
            "Epoch 9/10\n",
            "1563/1563 [==============================] - 8s 5ms/step - loss: 0.7579 - accuracy: 0.7348 - val_loss: 1.0660 - val_accuracy: 0.6531\n",
            "Epoch 10/10\n",
            "1563/1563 [==============================] - 8s 5ms/step - loss: 0.7204 - accuracy: 0.7496 - val_loss: 1.0853 - val_accuracy: 0.6517\n"
          ]
        }
      ]
    },
    {
      "cell_type": "code",
      "source": [
        ""
      ],
      "metadata": {
        "id": "yw_UWLYsxFPG"
      },
      "execution_count": null,
      "outputs": []
    },
    {
      "cell_type": "code",
      "source": [
        ""
      ],
      "metadata": {
        "id": "ULinZUKDxFRO"
      },
      "execution_count": null,
      "outputs": []
    },
    {
      "cell_type": "code",
      "source": [
        ""
      ],
      "metadata": {
        "id": "difBn5GcxFTG"
      },
      "execution_count": null,
      "outputs": []
    },
    {
      "cell_type": "code",
      "source": [
        "import tensorflow as tf\n",
        "from tensorflow import keras\n",
        "from tensorflow.keras.backend import clear_session\n",
        "from tensorflow.keras.models import Sequential, Model\n",
        "from tensorflow.keras.optimizers import Adam\n",
        "\n",
        "from tensorflow.keras.layers import Dense, Embedding, Bidirectional, LSTM, Dropout, Input, Flatten\n",
        "from tensorflow.keras.layers import Conv2D, MaxPooling2D\n",
        "from tensorflow.keras.layers import BatchNormalization\n",
        "\n",
        "from tensorflow.keras.utils import to_categorical, plot_model\n",
        "from tensorflow.keras.callbacks import EarlyStopping, ModelCheckpoint\n",
        "from tensorflow.keras.models import load_model\n",
        "from keras import backend as K\n"
      ],
      "metadata": {
        "id": "Y4hzLYJAtURy"
      },
      "execution_count": 36,
      "outputs": []
    },
    {
      "cell_type": "code",
      "source": [
        "base_model_1 = tf.keras.applications.VGG16(\n",
        "    include_top=False,\n",
        "    weights=\"imagenet\",\n",
        "    input_tensor=None,\n",
        "    input_shape=[32,32,3],\n",
        "    pooling=None,\n",
        "    #classes=10,\n",
        "    #classifier_activation=\"softmax\",\n",
        ")"
      ],
      "metadata": {
        "id": "7ZXc3ZCqsKC9"
      },
      "execution_count": 43,
      "outputs": []
    },
    {
      "cell_type": "code",
      "source": [
        "base_model_1.trainable= False #vgg16 동결하기"
      ],
      "metadata": {
        "id": "v-6LJXbovQGT"
      },
      "execution_count": 44,
      "outputs": []
    },
    {
      "cell_type": "code",
      "source": [
        "base_model_1.summary()"
      ],
      "metadata": {
        "colab": {
          "base_uri": "https://localhost:8080/"
        },
        "id": "gZTB_7kMvTWL",
        "outputId": "ff32a8a7-e05b-48ad-f290-ba5bba77ef12"
      },
      "execution_count": 45,
      "outputs": [
        {
          "output_type": "stream",
          "name": "stdout",
          "text": [
            "Model: \"vgg16\"\n",
            "_________________________________________________________________\n",
            " Layer (type)                Output Shape              Param #   \n",
            "=================================================================\n",
            " input_2 (InputLayer)        [(None, 32, 32, 3)]       0         \n",
            "                                                                 \n",
            " block1_conv1 (Conv2D)       (None, 32, 32, 64)        1792      \n",
            "                                                                 \n",
            " block1_conv2 (Conv2D)       (None, 32, 32, 64)        36928     \n",
            "                                                                 \n",
            " block1_pool (MaxPooling2D)  (None, 16, 16, 64)        0         \n",
            "                                                                 \n",
            " block2_conv1 (Conv2D)       (None, 16, 16, 128)       73856     \n",
            "                                                                 \n",
            " block2_conv2 (Conv2D)       (None, 16, 16, 128)       147584    \n",
            "                                                                 \n",
            " block2_pool (MaxPooling2D)  (None, 8, 8, 128)         0         \n",
            "                                                                 \n",
            " block3_conv1 (Conv2D)       (None, 8, 8, 256)         295168    \n",
            "                                                                 \n",
            " block3_conv2 (Conv2D)       (None, 8, 8, 256)         590080    \n",
            "                                                                 \n",
            " block3_conv3 (Conv2D)       (None, 8, 8, 256)         590080    \n",
            "                                                                 \n",
            " block3_pool (MaxPooling2D)  (None, 4, 4, 256)         0         \n",
            "                                                                 \n",
            " block4_conv1 (Conv2D)       (None, 4, 4, 512)         1180160   \n",
            "                                                                 \n",
            " block4_conv2 (Conv2D)       (None, 4, 4, 512)         2359808   \n",
            "                                                                 \n",
            " block4_conv3 (Conv2D)       (None, 4, 4, 512)         2359808   \n",
            "                                                                 \n",
            " block4_pool (MaxPooling2D)  (None, 2, 2, 512)         0         \n",
            "                                                                 \n",
            " block5_conv1 (Conv2D)       (None, 2, 2, 512)         2359808   \n",
            "                                                                 \n",
            " block5_conv2 (Conv2D)       (None, 2, 2, 512)         2359808   \n",
            "                                                                 \n",
            " block5_conv3 (Conv2D)       (None, 2, 2, 512)         2359808   \n",
            "                                                                 \n",
            " block5_pool (MaxPooling2D)  (None, 1, 1, 512)         0         \n",
            "                                                                 \n",
            "=================================================================\n",
            "Total params: 14,714,688\n",
            "Trainable params: 0\n",
            "Non-trainable params: 14,714,688\n",
            "_________________________________________________________________\n"
          ]
        }
      ]
    },
    {
      "cell_type": "code",
      "source": [
        "inputs = tf.keras.Input(shape=(32, 32, 3))\n",
        "x = base_model_1(inputs, training=False)\n",
        "x = tf.keras.layers.Flatten()(x)\n",
        "dense1= tf.keras.layers.Dense(300, activation='relu')(x)\n",
        "outputs = tf.keras.layers.Dense(10,activation='softmax')(dense1)\n",
        "model = tf.keras.Model(inputs, outputs)"
      ],
      "metadata": {
        "id": "e4_Na7sxvgq3"
      },
      "execution_count": 46,
      "outputs": []
    },
    {
      "cell_type": "code",
      "source": [
        "model.compile(optimizer='adam',\n",
        "              loss=tf.keras.losses.SparseCategoricalCrossentropy(from_logits=False),\n",
        "              metrics=['accuracy'])"
      ],
      "metadata": {
        "id": "gObXrefJv5hr"
      },
      "execution_count": 47,
      "outputs": []
    },
    {
      "cell_type": "code",
      "source": [
        "model.summary()"
      ],
      "metadata": {
        "colab": {
          "base_uri": "https://localhost:8080/"
        },
        "id": "4e61tbinv-6p",
        "outputId": "474bb5e0-50c4-46a3-a941-fa4b21e6c2d2"
      },
      "execution_count": 48,
      "outputs": [
        {
          "output_type": "stream",
          "name": "stdout",
          "text": [
            "Model: \"model\"\n",
            "_________________________________________________________________\n",
            " Layer (type)                Output Shape              Param #   \n",
            "=================================================================\n",
            " input_3 (InputLayer)        [(None, 32, 32, 3)]       0         \n",
            "                                                                 \n",
            " vgg16 (Functional)          (None, 1, 1, 512)         14714688  \n",
            "                                                                 \n",
            " flatten (Flatten)           (None, 512)               0         \n",
            "                                                                 \n",
            " dense (Dense)               (None, 300)               153900    \n",
            "                                                                 \n",
            " dense_1 (Dense)             (None, 10)                3010      \n",
            "                                                                 \n",
            "=================================================================\n",
            "Total params: 14,871,598\n",
            "Trainable params: 156,910\n",
            "Non-trainable params: 14,714,688\n",
            "_________________________________________________________________\n"
          ]
        }
      ]
    },
    {
      "cell_type": "code",
      "source": [
        "es= EarlyStopping(monitor = 'val_loss', patience = 5, verbose = 1, restore_best_weights=True)\n",
        "history = model.fit(\n",
        "    train_generator,\n",
        "    validation_data=valid_generator,\n",
        "    epochs=30,\n",
        "    verbose=1,\n",
        "    callbacks=[es])"
      ],
      "metadata": {
        "colab": {
          "base_uri": "https://localhost:8080/"
        },
        "id": "dhdcyexBwE8H",
        "outputId": "8a4d54b7-c3e0-484e-d17c-1d533eed0069"
      },
      "execution_count": 49,
      "outputs": [
        {
          "output_type": "stream",
          "name": "stdout",
          "text": [
            "Epoch 1/30\n",
            "1250/1250 [==============================] - 25s 12ms/step - loss: 1.3770 - accuracy: 0.1003 - val_loss: 1.2345 - val_accuracy: 0.1055\n",
            "Epoch 2/30\n",
            "1250/1250 [==============================] - 15s 12ms/step - loss: 1.1873 - accuracy: 0.0993 - val_loss: 1.1844 - val_accuracy: 0.1215\n",
            "Epoch 3/30\n",
            "1250/1250 [==============================] - 15s 12ms/step - loss: 1.1188 - accuracy: 0.0985 - val_loss: 1.1452 - val_accuracy: 0.1083\n",
            "Epoch 4/30\n",
            "1250/1250 [==============================] - 14s 12ms/step - loss: 1.0681 - accuracy: 0.0986 - val_loss: 1.1175 - val_accuracy: 0.0868\n",
            "Epoch 5/30\n",
            "1250/1250 [==============================] - 14s 12ms/step - loss: 1.0243 - accuracy: 0.0988 - val_loss: 1.1315 - val_accuracy: 0.1117\n",
            "Epoch 6/30\n",
            "1250/1250 [==============================] - 15s 12ms/step - loss: 0.9841 - accuracy: 0.0989 - val_loss: 1.1145 - val_accuracy: 0.0952\n",
            "Epoch 7/30\n",
            "1250/1250 [==============================] - 14s 12ms/step - loss: 0.9462 - accuracy: 0.0979 - val_loss: 1.0877 - val_accuracy: 0.1017\n",
            "Epoch 8/30\n",
            "1250/1250 [==============================] - 14s 12ms/step - loss: 0.9092 - accuracy: 0.0981 - val_loss: 1.1065 - val_accuracy: 0.0981\n",
            "Epoch 9/30\n",
            "1250/1250 [==============================] - 14s 12ms/step - loss: 0.8779 - accuracy: 0.0988 - val_loss: 1.1105 - val_accuracy: 0.1047\n",
            "Epoch 10/30\n",
            "1250/1250 [==============================] - 14s 12ms/step - loss: 0.8439 - accuracy: 0.0976 - val_loss: 1.1207 - val_accuracy: 0.0979\n",
            "Epoch 11/30\n",
            "1250/1250 [==============================] - 14s 11ms/step - loss: 0.8089 - accuracy: 0.0981 - val_loss: 1.1217 - val_accuracy: 0.0996\n",
            "Epoch 12/30\n",
            "1250/1250 [==============================] - ETA: 0s - loss: 0.7799 - accuracy: 0.0993Restoring model weights from the end of the best epoch: 7.\n",
            "1250/1250 [==============================] - 14s 12ms/step - loss: 0.7799 - accuracy: 0.0993 - val_loss: 1.1563 - val_accuracy: 0.1118\n",
            "Epoch 12: early stopping\n"
          ]
        }
      ]
    }
  ],
  "metadata": {
    "accelerator": "GPU",
    "colab": {
      "collapsed_sections": [],
      "name": "cnn 이미지 분류 .ipynb",
      "provenance": [],
      "include_colab_link": true
    },
    "kernelspec": {
      "display_name": "Python 3",
      "name": "python3"
    }
  },
  "nbformat": 4,
  "nbformat_minor": 0
}