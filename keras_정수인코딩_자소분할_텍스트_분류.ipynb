{
  "nbformat": 4,
  "nbformat_minor": 0,
  "metadata": {
    "colab": {
      "name": "keras 정수인코딩 자소분할 텍스트 분류.ipynb",
      "provenance": [],
      "collapsed_sections": [],
      "authorship_tag": "ABX9TyOHql+770hKoPhRAz79M2Zt",
      "include_colab_link": true
    },
    "kernelspec": {
      "name": "python3",
      "display_name": "Python 3"
    },
    "accelerator": "GPU"
  },
  "cells": [
    {
      "cell_type": "markdown",
      "metadata": {
        "id": "view-in-github",
        "colab_type": "text"
      },
      "source": [
        "<a href=\"https://colab.research.google.com/github/seosumin/start-github/blob/master/keras_%EC%A0%95%EC%88%98%EC%9D%B8%EC%BD%94%EB%94%A9_%EC%9E%90%EC%86%8C%EB%B6%84%ED%95%A0_%ED%85%8D%EC%8A%A4%ED%8A%B8_%EB%B6%84%EB%A5%98.ipynb\" target=\"_parent\"><img src=\"https://colab.research.google.com/assets/colab-badge.svg\" alt=\"Open In Colab\"/></a>"
      ]
    },
    {
      "cell_type": "markdown",
      "metadata": {
        "id": "FyXqrbNhNIdr"
      },
      "source": [
        "## **데이터 불러오기 **"
      ]
    },
    {
      "cell_type": "code",
      "source": [
        "import matplotlib as mpl\n",
        "import matplotlib.pyplot as plt\n",
        " \n",
        "%config InlineBackend.figure_format = 'retina'\n",
        " \n",
        "!apt -qq -y install fonts-nanum\n",
        " \n",
        "import matplotlib.font_manager as fm\n",
        "fontpath = '/usr/share/fonts/truetype/nanum/NanumBarunGothic.ttf'\n",
        "font = fm.FontProperties(fname=fontpath, size=9)\n",
        "plt.rc('font', family='NanumBarunGothic') \n",
        "mpl.font_manager._rebuild()"
      ],
      "metadata": {
        "colab": {
          "base_uri": "https://localhost:8080/"
        },
        "id": "zJo74R9rRcow",
        "outputId": "039d058f-dc63-46bd-b6b6-8e04f7839412"
      },
      "execution_count": 1,
      "outputs": [
        {
          "output_type": "stream",
          "name": "stdout",
          "text": [
            "The following NEW packages will be installed:\n",
            "  fonts-nanum\n",
            "0 upgraded, 1 newly installed, 0 to remove and 40 not upgraded.\n",
            "Need to get 9,604 kB of archives.\n",
            "After this operation, 29.5 MB of additional disk space will be used.\n",
            "Selecting previously unselected package fonts-nanum.\n",
            "(Reading database ... 155501 files and directories currently installed.)\n",
            "Preparing to unpack .../fonts-nanum_20170925-1_all.deb ...\n",
            "Unpacking fonts-nanum (20170925-1) ...\n",
            "Setting up fonts-nanum (20170925-1) ...\n",
            "Processing triggers for fontconfig (2.12.6-0ubuntu2) ...\n"
          ]
        }
      ]
    },
    {
      "cell_type": "code",
      "metadata": {
        "id": "tS6I0nL6SMow",
        "colab": {
          "base_uri": "https://localhost:8080/"
        },
        "outputId": "2337a208-dfd7-4e4c-cde0-2c032a6e4199"
      },
      "source": [
        "from google.colab import drive\n",
        "drive.mount('/content/gdrive/')"
      ],
      "execution_count": 2,
      "outputs": [
        {
          "output_type": "stream",
          "name": "stdout",
          "text": [
            "Mounted at /content/gdrive/\n"
          ]
        }
      ]
    },
    {
      "cell_type": "code",
      "metadata": {
        "id": "2L29QJpHMfFa"
      },
      "source": [
        "#from tensorflow.keras.datasets import imdb\n",
        "from tensorflow.keras.utils import to_categorical\n",
        "from tensorflow.keras.preprocessing.sequence import pad_sequences"
      ],
      "execution_count": 3,
      "outputs": []
    },
    {
      "cell_type": "code",
      "metadata": {
        "id": "kUkcP8IOMnPP",
        "colab": {
          "base_uri": "https://localhost:8080/"
        },
        "outputId": "cb637b98-91e7-4b18-ed6c-2a5dd78ae9a4"
      },
      "source": [
        "# 네이버 영화리뷰 감정분석 데이터 다운로드\n",
        "!git clone https://github.com/e9t/nsmc.git"
      ],
      "execution_count": 4,
      "outputs": [
        {
          "output_type": "stream",
          "name": "stdout",
          "text": [
            "Cloning into 'nsmc'...\n",
            "remote: Enumerating objects: 14763, done.\u001b[K\n",
            "remote: Total 14763 (delta 0), reused 0 (delta 0), pack-reused 14763\u001b[K\n",
            "Receiving objects: 100% (14763/14763), 56.19 MiB | 21.90 MiB/s, done.\n",
            "Resolving deltas: 100% (1749/1749), done.\n",
            "Checking out files: 100% (14737/14737), done.\n"
          ]
        }
      ]
    },
    {
      "cell_type": "code",
      "metadata": {
        "id": "bUF7QujOMoq2",
        "colab": {
          "base_uri": "https://localhost:8080/"
        },
        "outputId": "6b5d382b-64bf-4802-9eb4-24a6b29fad22"
      },
      "source": [
        "import pandas as pd\n",
        "### 판다스로 훈련셋과 테스트셋 데이터 로드\n",
        "train = pd.read_csv(\"nsmc/ratings_train.txt\", sep='\\t')\n",
        "test = pd.read_csv(\"nsmc/ratings_test.txt\", sep='\\t')\n",
        "\n",
        "print(train.shape)\n",
        "print(test.shape)"
      ],
      "execution_count": 5,
      "outputs": [
        {
          "output_type": "stream",
          "name": "stdout",
          "text": [
            "(150000, 3)\n",
            "(50000, 3)\n"
          ]
        }
      ]
    },
    {
      "cell_type": "code",
      "metadata": {
        "id": "8mneZHErMu8i"
      },
      "source": [
        "import numpy as np\n",
        "X_train =  train['document'][:20000]\n",
        "X_test = test['document'][:2000]\n",
        "Y_train = np.array(train['label'][:20000])\n",
        "Y_test = np.array(test['label'][:2000])"
      ],
      "execution_count": 68,
      "outputs": []
    },
    {
      "cell_type": "markdown",
      "metadata": {
        "id": "b3NzECxsNUH4"
      },
      "source": [
        "## **자소 분할 하기**"
      ]
    },
    {
      "cell_type": "code",
      "metadata": {
        "id": "WL1OipQwNi5Z",
        "colab": {
          "base_uri": "https://localhost:8080/"
        },
        "outputId": "ddcd29f9-d839-4f0d-a9e7-c4886c05e234"
      },
      "source": [
        "!pip install soynlp"
      ],
      "execution_count": 25,
      "outputs": [
        {
          "output_type": "stream",
          "name": "stdout",
          "text": [
            "Requirement already satisfied: soynlp in /usr/local/lib/python3.7/dist-packages (0.0.493)\n",
            "Requirement already satisfied: scikit-learn>=0.20.0 in /usr/local/lib/python3.7/dist-packages (from soynlp) (1.0.2)\n",
            "Requirement already satisfied: numpy>=1.12.1 in /usr/local/lib/python3.7/dist-packages (from soynlp) (1.21.6)\n",
            "Requirement already satisfied: psutil>=5.0.1 in /usr/local/lib/python3.7/dist-packages (from soynlp) (5.4.8)\n",
            "Requirement already satisfied: scipy>=1.1.0 in /usr/local/lib/python3.7/dist-packages (from soynlp) (1.4.1)\n",
            "Requirement already satisfied: threadpoolctl>=2.0.0 in /usr/local/lib/python3.7/dist-packages (from scikit-learn>=0.20.0->soynlp) (3.1.0)\n",
            "Requirement already satisfied: joblib>=0.11 in /usr/local/lib/python3.7/dist-packages (from scikit-learn>=0.20.0->soynlp) (1.1.0)\n"
          ]
        }
      ]
    },
    {
      "cell_type": "code",
      "metadata": {
        "id": "3jhVjjYXNbJ0"
      },
      "source": [
        "import re \n",
        "from soynlp.hangle import compose, decompose, character_is_korean\n",
        "\n",
        "doublespace_pattern = re.compile('\\s+')\n",
        "\n",
        "def jamo_sentence(sent): \n",
        "  def transform(char): \n",
        "    if char == ' ': \n",
        "      return char \n",
        "    cjj = decompose(char) \n",
        "    if len(cjj) == 1: \n",
        "      return cjj \n",
        "    cjj_ = ''.join(c if c != ' ' else '-' for c in cjj) \n",
        "    return cjj_\n",
        "#sent_ = ''.join(transform(char) for char in sent)\n",
        "  sent_ =''\n",
        "  for char in sent: \n",
        "    if character_is_korean(char) or char== ' ': \n",
        "      sent_ += ''.join(transform(char))\n",
        "    elif character_is_korean(char) == False:\n",
        "       sent_ += ''.join(' ')\n",
        "  sent_ = doublespace_pattern.sub(' ', ''.join(sent_))\n",
        "  return sent_"
      ],
      "execution_count": 69,
      "outputs": []
    },
    {
      "cell_type": "code",
      "metadata": {
        "id": "_UsDXDpKNb4f"
      },
      "source": [
        "X_train_list=[]\n",
        "for i in X_train:\n",
        "  X_train_list.append(jamo_sentence(str(i)))\n",
        "\n"
      ],
      "execution_count": 70,
      "outputs": []
    },
    {
      "cell_type": "code",
      "metadata": {
        "id": "feYRu0fDNeWG"
      },
      "source": [
        "X_test_list=[]\n",
        "for i in X_test:\n",
        "  X_test_list.append(jamo_sentence(str(i)))\n"
      ],
      "execution_count": 71,
      "outputs": []
    },
    {
      "cell_type": "code",
      "source": [
        "# train 리뷰 길이 분포 확인\n",
        "print('리뷰의 최대 길이 :',max(len(l) for l in X_train_list))\n",
        "print('리뷰의 평균 길이 :',sum(map(len, X_train_list))/len(X_train_list))\n",
        "plt.hist([len(s) for s in X_train_list], bins=50)\n",
        "plt.xlabel('length of samples')\n",
        "plt.ylabel('number of samples')\n",
        "plt.show()"
      ],
      "metadata": {
        "colab": {
          "base_uri": "https://localhost:8080/",
          "height": 314
        },
        "id": "yHZ4plqVRQZf",
        "outputId": "f7a3878b-65c3-4f88-bf7a-a37561945e30"
      },
      "execution_count": 72,
      "outputs": [
        {
          "output_type": "stream",
          "name": "stdout",
          "text": [
            "리뷰의 최대 길이 : 411\n",
            "리뷰의 평균 길이 : 84.64405\n"
          ]
        },
        {
          "output_type": "display_data",
          "data": {
            "text/plain": [
              "<Figure size 432x288 with 1 Axes>"
            ],
            "image/png": "[encoded data removed]"
          },
          "metadata": {
            "image/png": {
              "width": 395,
              "height": 261
            },
            "needs_background": "light"
          }
        }
      ]
    },
    {
      "cell_type": "code",
      "source": [
        "# test 리뷰 길이 분포 확인\n",
        "print('리뷰의 최대 길이 :',max(len(l) for l in X_test_list))\n",
        "print('리뷰의 평균 길이 :',sum(map(len, X_test_list))/len(X_test_list))\n",
        "plt.hist([len(s) for s in X_test_list], bins=50)\n",
        "plt.xlabel('length of samples')\n",
        "plt.ylabel('number of samples')\n",
        "plt.show()"
      ],
      "metadata": {
        "colab": {
          "base_uri": "https://localhost:8080/",
          "height": 314
        },
        "id": "fvQTgXx1Rf9H",
        "outputId": "95a8b6e5-ddb1-4529-e584-17dd34929658"
      },
      "execution_count": 73,
      "outputs": [
        {
          "output_type": "stream",
          "name": "stdout",
          "text": [
            "리뷰의 최대 길이 : 379\n",
            "리뷰의 평균 길이 : 83.364\n"
          ]
        },
        {
          "output_type": "display_data",
          "data": {
            "text/plain": [
              "<Figure size 432x288 with 1 Axes>"
            ],
            "image/png": "[encoded data removed]"
          },
          "metadata": {
            "image/png": {
              "width": 388,
              "height": 261
            },
            "needs_background": "light"
          }
        }
      ]
    },
    {
      "cell_type": "code",
      "metadata": {
        "id": "-DNf_kg7X2KS"
      },
      "source": [
        "import tensorflow as tf\n",
        "max_len = 300 # 문장길이를 얼마나 받을것인가 결정 \n",
        "tokenizer = tf.keras.preprocessing.text.Tokenizer(lower=True) # 케라스 내장 토크나이저 불러오기\n",
        "tokenizer.fit_on_texts(X_train_list) #(자소로 쪼개진 토큰 학습)\n",
        "X_train_docs = tokenizer.texts_to_sequences(X_train_list) #토큰들을 토큰 아이디로 변경\n",
        "X_train_docs = tf.keras.preprocessing.sequence.pad_sequences(X_train_docs, maxlen=max_len) # 남은 칸을 다 0으로 패딩\n"
      ],
      "execution_count": 74,
      "outputs": []
    },
    {
      "cell_type": "code",
      "metadata": {
        "id": "LwvmPJ4cX7_F",
        "colab": {
          "base_uri": "https://localhost:8080/"
        },
        "outputId": "00f0d498-f191-4ba8-f072-89e5cd673283"
      },
      "source": [
        "X_train_docs"
      ],
      "execution_count": 75,
      "outputs": [
        {
          "output_type": "execute_result",
          "data": {
            "text/plain": [
              "array([[    0,     0,     0, ...,    15,   683,    19],\n",
              "       [    0,     0,     0, ...,  2369,  2875,     8],\n",
              "       [    0,     0,     0, ...,    11, 10902,  2370],\n",
              "       ...,\n",
              "       [    0,     0,     0, ...,    72,    34,   115],\n",
              "       [    0,     0,     0, ...,    29,   297,   694],\n",
              "       [    0,     0,     0, ...,    39,    21,  9432]], dtype=int32)"
            ]
          },
          "metadata": {},
          "execution_count": 75
        }
      ]
    },
    {
      "cell_type": "code",
      "metadata": {
        "id": "6Mc4PMpEX5ur"
      },
      "source": [
        "X_test_docs = tokenizer.texts_to_sequences(X_test_list)\n",
        "X_test_docs = tf.keras.preprocessing.sequence.pad_sequences(X_test_docs, maxlen=max_len)"
      ],
      "execution_count": 76,
      "outputs": []
    },
    {
      "cell_type": "code",
      "source": [
        "X_test_docs"
      ],
      "metadata": {
        "colab": {
          "base_uri": "https://localhost:8080/"
        },
        "id": "2b36NaEFSrVg",
        "outputId": "421e3015-aed2-4cf0-b43f-a15611100b95"
      },
      "execution_count": 77,
      "outputs": [
        {
          "output_type": "execute_result",
          "data": {
            "text/plain": [
              "array([[    0,     0,     0, ...,     0,  1218,     9],\n",
              "       [    0,     0,     0, ...,     0,     0,     0],\n",
              "       [    0,     0,     0, ...,    10,    27,   917],\n",
              "       ...,\n",
              "       [    0,     0,     0, ..., 28689,    17,     4],\n",
              "       [    0,     0,     0, ...,     8,   999,    42],\n",
              "       [    0,     0,     0, ...,     1,    45,   339]], dtype=int32)"
            ]
          },
          "metadata": {},
          "execution_count": 77
        }
      ]
    },
    {
      "cell_type": "code",
      "source": [
        "word_index = tokenizer.word_index\n",
        "vocab_size=len(word_index) # 임베딩 사이즈로 들어가야한다. "
      ],
      "metadata": {
        "id": "lbUCOJYFSsPX"
      },
      "execution_count": 78,
      "outputs": []
    },
    {
      "cell_type": "code",
      "source": [
        "import tensorflow\n",
        "from tensorflow import keras\n",
        "from tensorflow.keras.backend import clear_session\n",
        "from tensorflow.keras.models import Sequential, Model\n",
        "from tensorflow.keras.optimizers import Adam\n",
        "\n",
        "from tensorflow.keras.layers import Dense, Embedding, Bidirectional, LSTM, Dropout, Input, Flatten\n",
        "from tensorflow.keras.layers import Conv1D, MaxPooling1D\n",
        "from tensorflow.keras.layers import BatchNormalization\n",
        "\n",
        "from tensorflow.keras.preprocessing.sequence import pad_sequences\n",
        "from tensorflow.keras.utils import to_categorical, plot_model\n",
        "from tensorflow.keras.callbacks import EarlyStopping, ModelCheckpoint\n",
        "from tensorflow.keras.models import load_model\n",
        "from keras import backend as K"
      ],
      "metadata": {
        "id": "K64TsXiIUk2l"
      },
      "execution_count": 79,
      "outputs": []
    },
    {
      "cell_type": "code",
      "source": [
        "clear_session()\n",
        "model1 = Sequential()\n",
        "model1.add(Embedding(vocab_size + 1, 300, input_length=max_len))\n",
        "model1.add(Conv1D(filters=512, kernel_size=8, padding='same', activation='relu'))\n",
        "model1.add(MaxPooling1D(pool_size=2))\n",
        "model1.add(Conv1D(filters=256, kernel_size=8, padding='same', activation='relu'))\n",
        "model1.add(MaxPooling1D(pool_size=2))\n",
        "model1.add(LSTM(256, dropout=0.2, recurrent_dropout=0.2))\n",
        "model1.add(Dense(128, activation='relu'))\n",
        "model1.add(Dense(64, activation='relu'))\n",
        "model1.add(Dense(1, activation='sigmoid'))\n",
        "model1.compile(loss='binary_crossentropy', optimizer='adam', metrics=['accuracy'])\n",
        "print(model1.summary())"
      ],
      "metadata": {
        "colab": {
          "base_uri": "https://localhost:8080/"
        },
        "id": "o7U41PtkUk47",
        "outputId": "7f7e8b0e-9478-4952-b974-ea6b3be94ac2"
      },
      "execution_count": 80,
      "outputs": [
        {
          "output_type": "stream",
          "name": "stdout",
          "text": [
            "WARNING:tensorflow:Layer lstm will not use cuDNN kernels since it doesn't meet the criteria. It will use a generic GPU kernel as fallback when running on GPU.\n",
            "Model: \"sequential\"\n",
            "_________________________________________________________________\n",
            " Layer (type)                Output Shape              Param #   \n",
            "=================================================================\n",
            " embedding (Embedding)       (None, 300, 300)          8988900   \n",
            "                                                                 \n",
            " conv1d (Conv1D)             (None, 300, 512)          1229312   \n",
            "                                                                 \n",
            " max_pooling1d (MaxPooling1D  (None, 150, 512)         0         \n",
            " )                                                               \n",
            "                                                                 \n",
            " conv1d_1 (Conv1D)           (None, 150, 256)          1048832   \n",
            "                                                                 \n",
            " max_pooling1d_1 (MaxPooling  (None, 75, 256)          0         \n",
            " 1D)                                                             \n",
            "                                                                 \n",
            " lstm (LSTM)                 (None, 256)               525312    \n",
            "                                                                 \n",
            " dense (Dense)               (None, 128)               32896     \n",
            "                                                                 \n",
            " dense_1 (Dense)             (None, 64)                8256      \n",
            "                                                                 \n",
            " dense_2 (Dense)             (None, 1)                 65        \n",
            "                                                                 \n",
            "=================================================================\n",
            "Total params: 11,833,573\n",
            "Trainable params: 11,833,573\n",
            "Non-trainable params: 0\n",
            "_________________________________________________________________\n",
            "None\n"
          ]
        }
      ]
    },
    {
      "cell_type": "code",
      "source": [
        "print(len(X_train_docs), len(Y_train))"
      ],
      "metadata": {
        "colab": {
          "base_uri": "https://localhost:8080/"
        },
        "id": "qtt-_Z25aill",
        "outputId": "b350eb6f-8151-4d10-a1c5-136cab4f1608"
      },
      "execution_count": 81,
      "outputs": [
        {
          "output_type": "stream",
          "name": "stdout",
          "text": [
            "20000 20000\n"
          ]
        }
      ]
    },
    {
      "cell_type": "code",
      "source": [
        "es= EarlyStopping(monitor='val_loss',\n",
        "                 min_delta=0,\n",
        "                 patience=10,\n",
        "                 verbose=1,\n",
        "                 restore_best_weights=True)\n",
        "model1.fit(X_train_docs, Y_train, epochs=50, batch_size=1024, validation_split=0.2, verbose=1, callbacks=[es])"
      ],
      "metadata": {
        "colab": {
          "base_uri": "https://localhost:8080/"
        },
        "id": "3a4HN2ZqVyi-",
        "outputId": "a0fae638-2a6d-4ec5-e0a6-3317a22df353"
      },
      "execution_count": 82,
      "outputs": [
        {
          "output_type": "stream",
          "name": "stdout",
          "text": [
            "Epoch 1/50\n",
            "16/16 [==============================] - 23s 1s/step - loss: 0.6849 - accuracy: 0.5381 - val_loss: 0.6114 - val_accuracy: 0.6777\n",
            "Epoch 2/50\n",
            "16/16 [==============================] - 15s 942ms/step - loss: 0.4965 - accuracy: 0.7602 - val_loss: 0.4838 - val_accuracy: 0.7760\n",
            "Epoch 3/50\n",
            "16/16 [==============================] - 16s 1s/step - loss: 0.2488 - accuracy: 0.9049 - val_loss: 0.5011 - val_accuracy: 0.7788\n",
            "Epoch 4/50\n",
            "16/16 [==============================] - 15s 948ms/step - loss: 0.1375 - accuracy: 0.9538 - val_loss: 0.7071 - val_accuracy: 0.7878\n",
            "Epoch 5/50\n",
            "16/16 [==============================] - 15s 955ms/step - loss: 0.0857 - accuracy: 0.9707 - val_loss: 0.7136 - val_accuracy: 0.7857\n",
            "Epoch 6/50\n",
            "16/16 [==============================] - 15s 956ms/step - loss: 0.0554 - accuracy: 0.9818 - val_loss: 0.9417 - val_accuracy: 0.7790\n",
            "Epoch 7/50\n",
            "16/16 [==============================] - 15s 958ms/step - loss: 0.0444 - accuracy: 0.9835 - val_loss: 1.0008 - val_accuracy: 0.7760\n",
            "Epoch 8/50\n",
            "16/16 [==============================] - 15s 964ms/step - loss: 0.0350 - accuracy: 0.9868 - val_loss: 1.0919 - val_accuracy: 0.7703\n",
            "Epoch 9/50\n",
            "16/16 [==============================] - 15s 965ms/step - loss: 0.0285 - accuracy: 0.9891 - val_loss: 1.1857 - val_accuracy: 0.7692\n",
            "Epoch 10/50\n",
            "16/16 [==============================] - 15s 966ms/step - loss: 0.0266 - accuracy: 0.9898 - val_loss: 1.2025 - val_accuracy: 0.7805\n",
            "Epoch 11/50\n",
            "16/16 [==============================] - 15s 969ms/step - loss: 0.0261 - accuracy: 0.9891 - val_loss: 1.3369 - val_accuracy: 0.7757\n",
            "Epoch 12/50\n",
            "16/16 [==============================] - ETA: 0s - loss: 0.0221 - accuracy: 0.9905Restoring model weights from the end of the best epoch: 2.\n",
            "16/16 [==============================] - 16s 976ms/step - loss: 0.0221 - accuracy: 0.9905 - val_loss: 1.2197 - val_accuracy: 0.7757\n",
            "Epoch 12: early stopping\n"
          ]
        },
        {
          "output_type": "execute_result",
          "data": {
            "text/plain": [
              "<keras.callbacks.History at 0x7f2fe21f4890>"
            ]
          },
          "metadata": {},
          "execution_count": 82
        }
      ]
    },
    {
      "cell_type": "code",
      "metadata": {
        "id": "L42cDiAJZC11",
        "colab": {
          "base_uri": "https://localhost:8080/"
        },
        "outputId": "d3864d4f-ed6d-40c3-b975-c44fbc627ad2"
      },
      "source": [
        "print(\"\\n 테스트 정확도: %.4f\" % (model1.evaluate(X_test_docs, Y_test)[1]))"
      ],
      "execution_count": 83,
      "outputs": [
        {
          "output_type": "stream",
          "name": "stdout",
          "text": [
            "63/63 [==============================] - 2s 29ms/step - loss: 0.4719 - accuracy: 0.7725\n",
            "\n",
            " 테스트 정확도: 0.7725\n"
          ]
        }
      ]
    },
    {
      "cell_type": "code",
      "metadata": {
        "id": "pttAAVs-ZIOZ"
      },
      "source": [
        "score=model1.predict(X_test_docs)"
      ],
      "execution_count": 85,
      "outputs": []
    },
    {
      "cell_type": "code",
      "source": [
        "bi_score=[]\n",
        "for i in range(len(score)):\n",
        "  if score[i] > 0.5:\n",
        "    bi_score.append(1)\n",
        "  else:\n",
        "    bi_score.append(0)"
      ],
      "metadata": {
        "id": "vFfm5hsPcTZv"
      },
      "execution_count": 86,
      "outputs": []
    },
    {
      "cell_type": "code",
      "source": [
        "df_bi_score=pd.DataFrame(bi_score, columns=['score'])"
      ],
      "metadata": {
        "id": "gZtcM1rnciRi"
      },
      "execution_count": 87,
      "outputs": []
    },
    {
      "cell_type": "code",
      "source": [
        "df_bi_score"
      ],
      "metadata": {
        "colab": {
          "base_uri": "https://localhost:8080/",
          "height": 423
        },
        "id": "cFIQnkjGckD9",
        "outputId": "bf80f807-8a8b-4cad-870b-b31839677bec"
      },
      "execution_count": 89,
      "outputs": [
        {
          "output_type": "execute_result",
          "data": {
            "text/plain": [
              "      score\n",
              "0         1\n",
              "1         1\n",
              "2         1\n",
              "3         0\n",
              "4         0\n",
              "...     ...\n",
              "1995      0\n",
              "1996      0\n",
              "1997      0\n",
              "1998      0\n",
              "1999      1\n",
              "\n",
              "[2000 rows x 1 columns]"
            ],
            "text/html": [
              "\n",
              "  <div id=\"df-3c4663c9-a43d-47f1-8084-7d7dc2c9d8fa\">\n",
              "    <div class=\"colab-df-container\">\n",
              "      <div>\n",
              "<style scoped>\n",
              "    .dataframe tbody tr th:only-of-type {\n",
              "        vertical-align: middle;\n",
              "    }\n",
              "\n",
              "    .dataframe tbody tr th {\n",
              "        vertical-align: top;\n",
              "    }\n",
              "\n",
              "    .dataframe thead th {\n",
              "        text-align: right;\n",
              "    }\n",
              "</style>\n",
              "<table border=\"1\" class=\"dataframe\">\n",
              "  <thead>\n",
              "    <tr style=\"text-align: right;\">\n",
              "      <th></th>\n",
              "      <th>score</th>\n",
              "    </tr>\n",
              "  </thead>\n",
              "  <tbody>\n",
              "    <tr>\n",
              "      <th>0</th>\n",
              "      <td>1</td>\n",
              "    </tr>\n",
              "    <tr>\n",
              "      <th>1</th>\n",
              "      <td>1</td>\n",
              "    </tr>\n",
              "    <tr>\n",
              "      <th>2</th>\n",
              "      <td>1</td>\n",
              "    </tr>\n",
              "    <tr>\n",
              "      <th>3</th>\n",
              "      <td>0</td>\n",
              "    </tr>\n",
              "    <tr>\n",
              "      <th>4</th>\n",
              "      <td>0</td>\n",
              "    </tr>\n",
              "    <tr>\n",
              "      <th>...</th>\n",
              "      <td>...</td>\n",
              "    </tr>\n",
              "    <tr>\n",
              "      <th>1995</th>\n",
              "      <td>0</td>\n",
              "    </tr>\n",
              "    <tr>\n",
              "      <th>1996</th>\n",
              "      <td>0</td>\n",
              "    </tr>\n",
              "    <tr>\n",
              "      <th>1997</th>\n",
              "      <td>0</td>\n",
              "    </tr>\n",
              "    <tr>\n",
              "      <th>1998</th>\n",
              "      <td>0</td>\n",
              "    </tr>\n",
              "    <tr>\n",
              "      <th>1999</th>\n",
              "      <td>1</td>\n",
              "    </tr>\n",
              "  </tbody>\n",
              "</table>\n",
              "<p>2000 rows × 1 columns</p>\n",
              "</div>\n",
              "      <button class=\"colab-df-convert\" onclick=\"convertToInteractive('df-3c4663c9-a43d-47f1-8084-7d7dc2c9d8fa')\"\n",
              "              title=\"Convert this dataframe to an interactive table.\"\n",
              "              style=\"display:none;\">\n",
              "        \n",
              "  <svg xmlns=\"http://www.w3.org/2000/svg\" height=\"24px\"viewBox=\"0 0 24 24\"\n",
              "       width=\"24px\">\n",
              "    <path d=\"M0 0h24v24H0V0z\" fill=\"none\"/>\n",
              "    <path d=\"M18.56 5.44l.94 2.06.94-2.06 2.06-.94-2.06-.94-.94-2.06-.94 2.06-2.06.94zm-11 1L8.5 8.5l.94-2.06 2.06-.94-2.06-.94L8.5 2.5l-.94 2.06-2.06.94zm10 10l.94 2.06.94-2.06 2.06-.94-2.06-.94-.94-2.06-.94 2.06-2.06.94z\"/><path d=\"M17.41 7.96l-1.37-1.37c-.4-.4-.92-.59-1.43-.59-.52 0-1.04.2-1.43.59L10.3 9.45l-7.72 7.72c-.78.78-.78 2.05 0 2.83L4 21.41c.39.39.9.59 1.41.59.51 0 1.02-.2 1.41-.59l7.78-7.78 2.81-2.81c.8-.78.8-2.07 0-2.86zM5.41 20L4 18.59l7.72-7.72 1.47 1.35L5.41 20z\"/>\n",
              "  </svg>\n",
              "      </button>\n",
              "      \n",
              "  <style>\n",
              "    .colab-df-container {\n",
              "      display:flex;\n",
              "      flex-wrap:wrap;\n",
              "      gap: 12px;\n",
              "    }\n",
              "\n",
              "    .colab-df-convert {\n",
              "      background-color: #E8F0FE;\n",
              "      border: none;\n",
              "      border-radius: 50%;\n",
              "      cursor: pointer;\n",
              "      display: none;\n",
              "      fill: #1967D2;\n",
              "      height: 32px;\n",
              "      padding: 0 0 0 0;\n",
              "      width: 32px;\n",
              "    }\n",
              "\n",
              "    .colab-df-convert:hover {\n",
              "      background-color: #E2EBFA;\n",
              "      box-shadow: 0px 1px 2px rgba(60, 64, 67, 0.3), 0px 1px 3px 1px rgba(60, 64, 67, 0.15);\n",
              "      fill: #174EA6;\n",
              "    }\n",
              "\n",
              "    [theme=dark] .colab-df-convert {\n",
              "      background-color: #3B4455;\n",
              "      fill: #D2E3FC;\n",
              "    }\n",
              "\n",
              "    [theme=dark] .colab-df-convert:hover {\n",
              "      background-color: #434B5C;\n",
              "      box-shadow: 0px 1px 3px 1px rgba(0, 0, 0, 0.15);\n",
              "      filter: drop-shadow(0px 1px 2px rgba(0, 0, 0, 0.3));\n",
              "      fill: #FFFFFF;\n",
              "    }\n",
              "  </style>\n",
              "\n",
              "      <script>\n",
              "        const buttonEl =\n",
              "          document.querySelector('#df-3c4663c9-a43d-47f1-8084-7d7dc2c9d8fa button.colab-df-convert');\n",
              "        buttonEl.style.display =\n",
              "          google.colab.kernel.accessAllowed ? 'block' : 'none';\n",
              "\n",
              "        async function convertToInteractive(key) {\n",
              "          const element = document.querySelector('#df-3c4663c9-a43d-47f1-8084-7d7dc2c9d8fa');\n",
              "          const dataTable =\n",
              "            await google.colab.kernel.invokeFunction('convertToInteractive',\n",
              "                                                     [key], {});\n",
              "          if (!dataTable) return;\n",
              "\n",
              "          const docLinkHtml = 'Like what you see? Visit the ' +\n",
              "            '<a target=\"_blank\" href=https://colab.research.google.com/notebooks/data_table.ipynb>data table notebook</a>'\n",
              "            + ' to learn more about interactive tables.';\n",
              "          element.innerHTML = '';\n",
              "          dataTable['output_type'] = 'display_data';\n",
              "          await google.colab.output.renderOutput(dataTable, element);\n",
              "          const docLink = document.createElement('div');\n",
              "          docLink.innerHTML = docLinkHtml;\n",
              "          element.appendChild(docLink);\n",
              "        }\n",
              "      </script>\n",
              "    </div>\n",
              "  </div>\n",
              "  "
            ]
          },
          "metadata": {},
          "execution_count": 89
        }
      ]
    },
    {
      "cell_type": "code",
      "source": [
        ""
      ],
      "metadata": {
        "id": "OkY3Wnn8cnqy"
      },
      "execution_count": null,
      "outputs": []
    },
    {
      "cell_type": "markdown",
      "source": [
        "# 간단하면서도 빠른? 텍스트 분류기 입니다\n",
        "# 성능이 얼마나 좋을진 모르겠지만, 간편하게 쓰기 좋을듯해요\n",
        "# 만약 사전학습언어모델(BERT)같은걸 쓸수있다면 빠르게 태세전환 합시다."
      ],
      "metadata": {
        "id": "3DkbiZBRcwKY"
      }
    },
    {
      "cell_type": "markdown",
      "source": [
        "# 만약 영어로 나온다면? 자소 분할 없이 바로 케라스 내장 토크나이저로 토큰을 쪼개버리자"
      ],
      "metadata": {
        "id": "vOn-mmPVdDd-"
      }
    },
    {
      "cell_type": "code",
      "source": [
        "import tensorflow as tf\n",
        "from tensorflow import keras\n",
        "from tensorflow.keras.preprocessing.text import Tokenizer\n",
        "\n",
        "sentences = [\n",
        "  'I love my dog',\n",
        "  'I love my cat'\n",
        "]\n",
        "\n",
        "tokenizer = Tokenizer()\n",
        "tokenizer.fit_on_texts(sentences)\n",
        "word_index = tokenizer.word_index\n",
        "print(word_index)"
      ],
      "metadata": {
        "colab": {
          "base_uri": "https://localhost:8080/"
        },
        "id": "juH-2SfueUMu",
        "outputId": "d8f80533-c47b-4353-f90e-f6d5b5fdfadf"
      },
      "execution_count": 90,
      "outputs": [
        {
          "output_type": "stream",
          "name": "stdout",
          "text": [
            "{'i': 1, 'love': 2, 'my': 3, 'dog': 4, 'cat': 5}\n"
          ]
        }
      ]
    },
    {
      "cell_type": "code",
      "source": [
        ""
      ],
      "metadata": {
        "id": "UN8c9WH_eWn9"
      },
      "execution_count": null,
      "outputs": []
    }
  ]
}